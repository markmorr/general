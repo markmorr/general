{
 "cells": [
  {
   "cell_type": "code",
   "execution_count": 11,
   "metadata": {},
   "outputs": [],
   "source": [
    "import pandas as pd     \n",
    "import numpy as np\n",
    "import tensorflow as tf\n",
    "import math\n",
    "import timeit\n",
    "import matplotlib.pyplot as plt\n",
    "from six.moves import cPickle as pickle\n",
    "import os\n",
    "import platform\n",
    "from subprocess import check_output\n",
    "import keras\n",
    "import scipy as sp\n",
    "import seaborn as sns\n",
    "import tensorflow as tf\n",
    "import tqdm\n",
    "from keras import regularizers\n",
    "from keras.callbacks import ModelCheckpoint\n",
    "from keras.datasets import cifar10\n",
    "from keras.layers import (\n",
    "    Activation,\n",
    "    Conv2D,\n",
    "    Dense,\n",
    "    Dropout,\n",
    "    Flatten,\n",
    "    MaxPooling2D,\n",
    "    Reshape,\n",
    "    Softmax,\n",
    ")\n"
   ]
  },
  {
   "cell_type": "code",
   "execution_count": 2,
   "metadata": {},
   "outputs": [],
   "source": [
    "from keras.models import Sequential\n",
    "from keras.preprocessing.image import ImageDataGenerator\n",
    "from keras.utils import np_utils\n",
    "from scipy.spatial.distance import euclidean\n",
    "from scipy.spatial import distance\n",
    "from sklearn.cluster import KMeans\n",
    "from sklearn.metrics import accuracy_score\n",
    "from sklearn.metrics.pairwise import euclidean_distances\n",
    "from sklearn.model_selection import train_test_split\n",
    "from sklearn.neighbors import DistanceMetric\n",
    "from sklearn.preprocessing import LabelEncoder, OneHotEncoder\n",
    "from tensorflow.python.client import device_lib\n",
    "from keras.datasets import cifar10\n",
    "\n",
    "import random\n",
    "from random import randrange\n"
   ]
  },
  {
   "cell_type": "markdown",
   "metadata": {},
   "source": [
    "# Part a"
   ]
  },
  {
   "cell_type": "code",
   "execution_count": 3,
   "metadata": {},
   "outputs": [],
   "source": [
    "(x_train, y_train), (x_test, y_test) = cifar10.load_data()"
   ]
  },
  {
   "cell_type": "markdown",
   "metadata": {},
   "source": [
    "# Part b"
   ]
  },
  {
   "cell_type": "code",
   "execution_count": 4,
   "metadata": {},
   "outputs": [
    {
     "name": "stdout",
     "output_type": "stream",
     "text": [
      "153600000\n",
      "(50000, 32, 32, 3)\n"
     ]
    }
   ],
   "source": [
    "#part b ##############\n",
    "def collect_all_birds(images,labels):\n",
    "   \n",
    "    indexes = np.argwhere(labels == 2)\n",
    "    indexes = indexes[:,0]\n",
    "    #it yields a 2 column array for some reason--just extract the first one\n",
    "    index_list = list(indexes)\n",
    "    #for i in index_list: didn't work\n",
    "     # samples = x[i]\n",
    "    samples = [images[i] for i in index_list]\n",
    "    return samples\n",
    "\n",
    "\n",
    "x_train_ = collect_all_birds(x_train, y_train)\n",
    "x_test_ = collect_all_birds(x_test, y_test)\n",
    "print(x_train.size)\n",
    "print(x_train.shape)"
   ]
  },
  {
   "cell_type": "code",
   "execution_count": 5,
   "metadata": {},
   "outputs": [
    {
     "name": "stdout",
     "output_type": "stream",
     "text": [
      "184320000\n"
     ]
    }
   ],
   "source": [
    "#print shape to prove it's the right shape!*\n",
    "\n",
    "#print shape to show it worked in google colab\n",
    "tb = np.concatenate((x_train, x_test))\n",
    "print(tb.size)\n",
    "\n",
    "#thanks for the helpful error message numpy"
   ]
  },
  {
   "cell_type": "markdown",
   "metadata": {},
   "source": [
    "# Part c"
   ]
  },
  {
   "cell_type": "code",
   "execution_count": 6,
   "metadata": {},
   "outputs": [
    {
     "name": "stdout",
     "output_type": "stream",
     "text": [
      "(6000, 3)\n",
      "[123.  92.  72.]\n"
     ]
    }
   ],
   "source": [
    "RGB_vectors = np.zeros(shape=(6000,3))\n",
    "for i in range(0,6000):\n",
    "  for j in range(0,32):\n",
    "    for k in range(0,32):\n",
    "      RGB_vectors[i] = tb[i][j][k]\n",
    "print(RGB_vectors.shape)\n",
    "print(RGB_vectors[0])"
   ]
  },
  {
   "cell_type": "markdown",
   "metadata": {},
   "source": [
    "# Part d"
   ]
  },
  {
   "cell_type": "code",
   "execution_count": 7,
   "metadata": {},
   "outputs": [
    {
     "name": "stdout",
     "output_type": "stream",
     "text": [
      "[[102 102  85]\n",
      " [226 225 221]\n",
      " [158 154 141]\n",
      " [ 43  42  36]]\n"
     ]
    }
   ],
   "source": [
    "from sklearn.cluster import KMeans\n",
    "kmeans = KMeans(n_clusters = 4, random_state=0).fit(RGB_vectors)\n",
    "kmeans_output = kmeans.labels_   \n",
    "main_colors = kmeans.cluster_centers_ #this  is stupidly named\n",
    "\n",
    "import math\n",
    "from scipy.spatial import distance\n",
    "tetrachrome = np.zeros(shape=(6000,32,32,3))\n",
    "#convert to integers \n",
    "main_colors = main_colors.astype(int)\n",
    "print(main_colors)"
   ]
  },
  {
   "cell_type": "code",
   "execution_count": null,
   "metadata": {},
   "outputs": [],
   "source": [
    "  \n",
    "##THIS TAKES A LONG TIME: 5-10 MINUTES BUT  IT DOES WORK##\n",
    "for i in range(0,6000):\n",
    "    for j in range(0,32):\n",
    "        for k in range(0,32):\n",
    "            min_dist = 441.67\n",
    "            best_color_index = 0\n",
    "            for u in range(0,4):\n",
    "                \n",
    "                dist = distance.euclidean(tb[i][j][k], main_colors[u])\n",
    "                if dist < min_dist:\n",
    "                    min_dist = dist\n",
    "                    best_color_index = u\n",
    "            tetrachrome[i][j][k] = main_colors[best_color_index]\n",
    "            \n",
    "print('done!!!!!!!!!')"
   ]
  },
  {
   "cell_type": "code",
   "execution_count": 9,
   "metadata": {},
   "outputs": [
    {
     "name": "stdout",
     "output_type": "stream",
     "text": [
      "[43 42 36]\n",
      "[158 154 141]\n",
      "[226 225 221]\n",
      "[43 42 36]\n",
      "[158 154 141]\n",
      "[102 102  85]\n",
      "[102 102  85]\n",
      "[43 42 36]\n",
      "[158 154 141]\n",
      "[158 154 141]\n"
     ]
    }
   ],
   "source": [
    "tetrachrome = tetrachrome.astype(int)\n",
    "for x in range(0,10):\n",
    "  print(tetrachrome[x][1][1])"
   ]
  },
  {
   "cell_type": "code",
   "execution_count": null,
   "metadata": {},
   "outputs": [],
   "source": [
    "print(\"first 10 images\")\n",
    "fig = plt.figure(figsize = (9,3))\n",
    "for i in range(0,10):\n",
    "    ax = fig.add_subplot(2,5,i+1)\n",
    "    plt.imshow(tetrachrome[i])\n",
    "    plt.show()\n",
    "\n",
    "#ok so gotta "
   ]
  },
  {
   "cell_type": "markdown",
   "metadata": {},
   "source": [
    "# Part e"
   ]
  },
  {
   "cell_type": "code",
   "execution_count": null,
   "metadata": {},
   "outputs": [],
   "source": [
    "#using resource: https://scikit-image.org/docs/dev/auto_examples/color_exposure/plot_rgb_to_gray.ht\n",
    "\n",
    "from skimage.color import rgb2gray\n",
    "grayscale = np.zeros(shape = (6000,32,32))\n",
    "\n",
    "for i in range(0,6000):\n",
    "    original = tb[i]\n",
    "    grayscale[i] = rgb2gray(original)\n",
    "\n",
    "for i in range(0,3):\n",
    "    fig, axes = plt.subplots(1, 2, figsize=(8, 4))\n",
    "    ax = axes.ravel()\n",
    "    \n",
    "    ax[0].imshow(tb[i])\n",
    "    ax[0].set_title(\"Original\")\n",
    "    ax[1].imshow(grayscale[i], cmap=plt.cm.gray)\n",
    "    ax[1].set_title(\"Grayscale\")\n",
    "    \n",
    "    fig.tight_layout()\n",
    "    plt.show()\n",
    "    \n",
    "\n",
    "    \n"
   ]
  },
  {
   "cell_type": "markdown",
   "metadata": {},
   "source": [
    "# Part f"
   ]
  },
  {
   "cell_type": "code",
   "execution_count": 1,
   "metadata": {},
   "outputs": [
    {
     "name": "stderr",
     "output_type": "stream",
     "text": [
      "Using TensorFlow backend.\n"
     ]
    },
    {
     "ename": "NameError",
     "evalue": "name 'Sequential' is not defined",
     "output_type": "error",
     "traceback": [
      "\u001b[1;31m---------------------------------------------------------------------------\u001b[0m",
      "\u001b[1;31mNameError\u001b[0m                                 Traceback (most recent call last)",
      "\u001b[1;32m<ipython-input-1-b8fbd0c78239>\u001b[0m in \u001b[0;36m<module>\u001b[1;34m\u001b[0m\n\u001b[0;32m     11\u001b[0m \u001b[1;33m\u001b[0m\u001b[0m\n\u001b[0;32m     12\u001b[0m \u001b[1;33m\u001b[0m\u001b[0m\n\u001b[1;32m---> 13\u001b[1;33m \u001b[0mmodel\u001b[0m \u001b[1;33m=\u001b[0m \u001b[0mSequential\u001b[0m\u001b[1;33m(\u001b[0m\u001b[1;33m)\u001b[0m\u001b[1;33m\u001b[0m\u001b[1;33m\u001b[0m\u001b[0m\n\u001b[0m\u001b[0;32m     14\u001b[0m \u001b[1;31m#sequential lets us build the model layer by layer\u001b[0m\u001b[1;33m\u001b[0m\u001b[1;33m\u001b[0m\u001b[1;33m\u001b[0m\u001b[0m\n\u001b[0;32m     15\u001b[0m \u001b[1;33m\u001b[0m\u001b[0m\n",
      "\u001b[1;31mNameError\u001b[0m: name 'Sequential' is not defined"
     ]
    }
   ],
   "source": [
    "#using resource: https://keras.io/examples/cifar10_cnn/\n",
    "##HAVING ISSUES WITH RUNNING THIS NETWORK--still getting errors\n",
    "epochs = 5\n",
    "numbe_of_classes = 4\n",
    "#using resource: https://keras.io/examples/cifar10_cnn/\n",
    "\n",
    "from keras.utils import to_categorical\n",
    "#one-hot encode target column\n",
    "#y_train = to_categorical(y_train)\n",
    "#y_test = to_categorical(y_test)\n",
    "\n",
    "\n",
    "model = Sequential()\n",
    "#sequential lets us build the model layer by layer\n",
    "\n",
    "model.add(Conv2D(32, (5,5), padding='same',\n",
    "                 input_shape=x_train.shape[1:]))\n",
    "#why does it have to be shape[1:]?\n",
    "#first layer\n",
    "model.add(Activation('relu'))\n",
    "model.add(Conv2D(32, (5,5))) \n",
    "\n",
    "#2nd layer\n",
    "model.add(Conv2D(32, (5,5), padding='same'))\n",
    "model.add(Activation('relu'))\n",
    "#ConV2D because our images are represented 2D; 5x5 is the mask shape (filter shape?)\n",
    "\n",
    "#3rd layer (MLP??)\n",
    "model.add(MaxPooling2D(pool_size=(2, 2)))\n",
    "model.add(Dropout(0.4))\n",
    "\n",
    "#4th layer\n",
    "model.add(MaxPooling2D(pool_size=(2, 2)))\n",
    "model.add(Dropout(0.4))\n",
    "\n",
    "\n",
    "model.add(Flatten())\n",
    "model.add(Dense(512))\n",
    "model.add(Activation('relu'))\n",
    "model.add(Dropout(0.5))\n",
    "model.add(Dense(number_of_classes))\n",
    "model.add(Activation('softmax'))\n",
    "#softmax output\n",
    "\n",
    "# initiate RMSprop optimizer\n",
    "opt = keras.optimizers.RMSprop(learning_rate=0.001, decay=1e-6)\n",
    "\n",
    "# it didn't like loss = cross_entropy for some reason!\n",
    "model.compile(loss='categorical_crossentropy',\n",
    "              optimizer=opt,\n",
    "              metrics=['accuracy'])\n",
    "\n",
    "\n"
   ]
  },
  {
   "cell_type": "code",
   "execution_count": null,
   "metadata": {},
   "outputs": [],
   "source": [
    "#Issues running\n",
    "model.fit(x_train, y_train, validation_data=(x_test, y_test), epochs=10)\n",
    "test_scores = model.evaluate(x_test, y_test, verbose=1)\n",
    "print('Test loss:', test_scores[0])\n",
    "print('Test accuracy:', test_scores[1])\n",
    "train_scores = model.evaluate(x_train, y_train, verbose=1)"
   ]
  },
  {
   "cell_type": "markdown",
   "metadata": {},
   "source": [
    " "
   ]
  }
 ],
 "metadata": {
  "kernelspec": {
   "display_name": "Python 3",
   "language": "python",
   "name": "python3"
  },
  "language_info": {
   "codemirror_mode": {
    "name": "ipython",
    "version": 3
   },
   "file_extension": ".py",
   "mimetype": "text/x-python",
   "name": "python",
   "nbconvert_exporter": "python",
   "pygments_lexer": "ipython3",
   "version": "3.7.3"
  }
 },
 "nbformat": 4,
 "nbformat_minor": 4
}
